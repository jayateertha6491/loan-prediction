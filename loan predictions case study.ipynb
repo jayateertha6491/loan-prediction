{
  "cells": [
    {
      "metadata": {
        "_uuid": "8f2839f25d086af736a60e9eeb907d3b93b6e0e5",
        "_cell_guid": "b1076dfc-b9ad-4769-8c92-a6c4dae69d19",
        "trusted": true
      },
      "cell_type": "code",
      "source": "# This Python 3 environment comes with many helpful analytics libraries installed\n# It is defined by the kaggle/python docker image: https://github.com/kaggle/docker-python\n# For example, here's several helpful packages to load in \n\nimport numpy as np # linear algebra\nimport pandas as pd # data processing, CSV file I/O (e.g. pd.read_csv)\n\n# Input data files are available in the \"../input/\" directory.\n# For example, running this (by clicking run or pressing Shift+Enter) will list the files in the input directory\n\nimport os\nprint(os.listdir(\"../input\"))\n\n# Any results you write to the current directory are saved as output.",
      "execution_count": 1,
      "outputs": [
        {
          "output_type": "stream",
          "text": "['train_data.csv', 'test_data.csv', 'train_AV3.csv', 'Sample_Submission_AV3.csv', 'train_prediction.csv', 'test_AV3.csv']\n",
          "name": "stdout"
        }
      ]
    },
    {
      "metadata": {
        "trusted": true,
        "_uuid": "c7dfffabe8c0c7a4e67792a510c54791c6424591"
      },
      "cell_type": "code",
      "source": "import matplotlib.pyplot as plt\nimport seaborn as sns",
      "execution_count": 2,
      "outputs": []
    },
    {
      "metadata": {
        "_cell_guid": "79c7e3d0-c299-4dcb-8224-4455121ee9b0",
        "_uuid": "d629ff2d2480ee46fbb7e2d37f6b5fab8052498a",
        "trusted": true
      },
      "cell_type": "code",
      "source": "train_df = pd.read_csv(\"../input/train_AV3.csv\")\ntest_df = pd.read_csv(\"../input/test_AV3.csv\")",
      "execution_count": 3,
      "outputs": []
    },
    {
      "metadata": {
        "trusted": true,
        "_uuid": "ce74b591443bea5e9b360587d5ec29dae55bfee5"
      },
      "cell_type": "code",
      "source": "train_data = pd.read_csv(\"../input/train_data.csv\")",
      "execution_count": 90,
      "outputs": []
    },
    {
      "metadata": {
        "trusted": true,
        "_uuid": "85385394c6d202d93565dcddf3a0432a4e96225a"
      },
      "cell_type": "code",
      "source": "train_data.shape",
      "execution_count": 103,
      "outputs": [
        {
          "output_type": "execute_result",
          "execution_count": 103,
          "data": {
            "text/plain": "(100, 12)"
          },
          "metadata": {}
        }
      ]
    },
    {
      "metadata": {
        "trusted": true,
        "_uuid": "5bc4fa06439381ce92bfebe5d5d908ecdd8846f3"
      },
      "cell_type": "code",
      "source": "test_data = pd.read_csv(\"../input/test_data.csv\")",
      "execution_count": 92,
      "outputs": []
    },
    {
      "metadata": {
        "trusted": true,
        "_uuid": "e1a266acebe20c1f4b9bce34b556b6dc049cc1a5"
      },
      "cell_type": "code",
      "source": "test_data.shape",
      "execution_count": 104,
      "outputs": [
        {
          "output_type": "execute_result",
          "execution_count": 104,
          "data": {
            "text/plain": "(500, 12)"
          },
          "metadata": {}
        }
      ]
    },
    {
      "metadata": {
        "trusted": true,
        "_uuid": "c25db87a6f19144e2ce59b1535aeb015c0aa86d0"
      },
      "cell_type": "code",
      "source": "train_prediction = pd.read_csv(\"../input/train_prediction.csv\")",
      "execution_count": 96,
      "outputs": []
    },
    {
      "metadata": {
        "trusted": true,
        "_uuid": "6f9a0dc5ae902f5cfeb1c9d48d5190d7c63edfd5"
      },
      "cell_type": "code",
      "source": "sample_submission = pd.read_csv(\"../input/Sample_Submission_AV3.csv\")",
      "execution_count": 100,
      "outputs": []
    },
    {
      "metadata": {
        "trusted": true,
        "_uuid": "d17643678861436596b294753052c1020c2a9d33"
      },
      "cell_type": "code",
      "source": "#It appears that the data does not have test data with actual outcomes. Hence there is no data to compare \n#the predictions after the model is trained with the training data",
      "execution_count": null,
      "outputs": []
    },
    {
      "metadata": {
        "trusted": true,
        "_uuid": "36cf75bee98f7980367b1c938ec4981a0a2c0737"
      },
      "cell_type": "code",
      "source": "print(\"the shape of the training data is \", train_df.shape)\nprint(\"the shape of the test data is \", test_df.shape)\nprint('total data is ', train_df.shape[0]+test_df.shape[0])",
      "execution_count": 4,
      "outputs": [
        {
          "output_type": "stream",
          "text": "the shape of the training data is  (614, 13)\nthe shape of the test data is  (367, 12)\ntotal data is  981\n",
          "name": "stdout"
        }
      ]
    },
    {
      "metadata": {
        "trusted": true,
        "_uuid": "396fedf8abf3685e42153ea159c15f35cb822135"
      },
      "cell_type": "code",
      "source": "train_df.head(5)",
      "execution_count": 5,
      "outputs": [
        {
          "output_type": "execute_result",
          "execution_count": 5,
          "data": {
            "text/plain": "    Loan_ID Gender Married     ...     Credit_History Property_Area Loan_Status\n0  LP001002   Male      No     ...                1.0         Urban           Y\n1  LP001003   Male     Yes     ...                1.0         Rural           N\n2  LP001005   Male     Yes     ...                1.0         Urban           Y\n3  LP001006   Male     Yes     ...                1.0         Urban           Y\n4  LP001008   Male      No     ...                1.0         Urban           Y\n\n[5 rows x 13 columns]",
            "text/html": "<div>\n<style scoped>\n    .dataframe tbody tr th:only-of-type {\n        vertical-align: middle;\n    }\n\n    .dataframe tbody tr th {\n        vertical-align: top;\n    }\n\n    .dataframe thead th {\n        text-align: right;\n    }\n</style>\n<table border=\"1\" class=\"dataframe\">\n  <thead>\n    <tr style=\"text-align: right;\">\n      <th></th>\n      <th>Loan_ID</th>\n      <th>Gender</th>\n      <th>Married</th>\n      <th>Dependents</th>\n      <th>Education</th>\n      <th>Self_Employed</th>\n      <th>ApplicantIncome</th>\n      <th>CoapplicantIncome</th>\n      <th>LoanAmount</th>\n      <th>Loan_Amount_Term</th>\n      <th>Credit_History</th>\n      <th>Property_Area</th>\n      <th>Loan_Status</th>\n    </tr>\n  </thead>\n  <tbody>\n    <tr>\n      <th>0</th>\n      <td>LP001002</td>\n      <td>Male</td>\n      <td>No</td>\n      <td>0</td>\n      <td>Graduate</td>\n      <td>No</td>\n      <td>5849</td>\n      <td>0.0</td>\n      <td>NaN</td>\n      <td>360.0</td>\n      <td>1.0</td>\n      <td>Urban</td>\n      <td>Y</td>\n    </tr>\n    <tr>\n      <th>1</th>\n      <td>LP001003</td>\n      <td>Male</td>\n      <td>Yes</td>\n      <td>1</td>\n      <td>Graduate</td>\n      <td>No</td>\n      <td>4583</td>\n      <td>1508.0</td>\n      <td>128.0</td>\n      <td>360.0</td>\n      <td>1.0</td>\n      <td>Rural</td>\n      <td>N</td>\n    </tr>\n    <tr>\n      <th>2</th>\n      <td>LP001005</td>\n      <td>Male</td>\n      <td>Yes</td>\n      <td>0</td>\n      <td>Graduate</td>\n      <td>Yes</td>\n      <td>3000</td>\n      <td>0.0</td>\n      <td>66.0</td>\n      <td>360.0</td>\n      <td>1.0</td>\n      <td>Urban</td>\n      <td>Y</td>\n    </tr>\n    <tr>\n      <th>3</th>\n      <td>LP001006</td>\n      <td>Male</td>\n      <td>Yes</td>\n      <td>0</td>\n      <td>Not Graduate</td>\n      <td>No</td>\n      <td>2583</td>\n      <td>2358.0</td>\n      <td>120.0</td>\n      <td>360.0</td>\n      <td>1.0</td>\n      <td>Urban</td>\n      <td>Y</td>\n    </tr>\n    <tr>\n      <th>4</th>\n      <td>LP001008</td>\n      <td>Male</td>\n      <td>No</td>\n      <td>0</td>\n      <td>Graduate</td>\n      <td>No</td>\n      <td>6000</td>\n      <td>0.0</td>\n      <td>141.0</td>\n      <td>360.0</td>\n      <td>1.0</td>\n      <td>Urban</td>\n      <td>Y</td>\n    </tr>\n  </tbody>\n</table>\n</div>"
          },
          "metadata": {}
        }
      ]
    },
    {
      "metadata": {
        "trusted": true,
        "_uuid": "51852b285c1553c014128a1aa53c80eb57af85f8"
      },
      "cell_type": "code",
      "source": "test_df.head(5)",
      "execution_count": 6,
      "outputs": [
        {
          "output_type": "execute_result",
          "execution_count": 6,
          "data": {
            "text/plain": "    Loan_ID Gender      ...      Credit_History Property_Area\n0  LP001015   Male      ...                 1.0         Urban\n1  LP001022   Male      ...                 1.0         Urban\n2  LP001031   Male      ...                 1.0         Urban\n3  LP001035   Male      ...                 NaN         Urban\n4  LP001051   Male      ...                 1.0         Urban\n\n[5 rows x 12 columns]",
            "text/html": "<div>\n<style scoped>\n    .dataframe tbody tr th:only-of-type {\n        vertical-align: middle;\n    }\n\n    .dataframe tbody tr th {\n        vertical-align: top;\n    }\n\n    .dataframe thead th {\n        text-align: right;\n    }\n</style>\n<table border=\"1\" class=\"dataframe\">\n  <thead>\n    <tr style=\"text-align: right;\">\n      <th></th>\n      <th>Loan_ID</th>\n      <th>Gender</th>\n      <th>Married</th>\n      <th>Dependents</th>\n      <th>Education</th>\n      <th>Self_Employed</th>\n      <th>ApplicantIncome</th>\n      <th>CoapplicantIncome</th>\n      <th>LoanAmount</th>\n      <th>Loan_Amount_Term</th>\n      <th>Credit_History</th>\n      <th>Property_Area</th>\n    </tr>\n  </thead>\n  <tbody>\n    <tr>\n      <th>0</th>\n      <td>LP001015</td>\n      <td>Male</td>\n      <td>Yes</td>\n      <td>0</td>\n      <td>Graduate</td>\n      <td>No</td>\n      <td>5720</td>\n      <td>0</td>\n      <td>110.0</td>\n      <td>360.0</td>\n      <td>1.0</td>\n      <td>Urban</td>\n    </tr>\n    <tr>\n      <th>1</th>\n      <td>LP001022</td>\n      <td>Male</td>\n      <td>Yes</td>\n      <td>1</td>\n      <td>Graduate</td>\n      <td>No</td>\n      <td>3076</td>\n      <td>1500</td>\n      <td>126.0</td>\n      <td>360.0</td>\n      <td>1.0</td>\n      <td>Urban</td>\n    </tr>\n    <tr>\n      <th>2</th>\n      <td>LP001031</td>\n      <td>Male</td>\n      <td>Yes</td>\n      <td>2</td>\n      <td>Graduate</td>\n      <td>No</td>\n      <td>5000</td>\n      <td>1800</td>\n      <td>208.0</td>\n      <td>360.0</td>\n      <td>1.0</td>\n      <td>Urban</td>\n    </tr>\n    <tr>\n      <th>3</th>\n      <td>LP001035</td>\n      <td>Male</td>\n      <td>Yes</td>\n      <td>2</td>\n      <td>Graduate</td>\n      <td>No</td>\n      <td>2340</td>\n      <td>2546</td>\n      <td>100.0</td>\n      <td>360.0</td>\n      <td>NaN</td>\n      <td>Urban</td>\n    </tr>\n    <tr>\n      <th>4</th>\n      <td>LP001051</td>\n      <td>Male</td>\n      <td>No</td>\n      <td>0</td>\n      <td>Not Graduate</td>\n      <td>No</td>\n      <td>3276</td>\n      <td>0</td>\n      <td>78.0</td>\n      <td>360.0</td>\n      <td>1.0</td>\n      <td>Urban</td>\n    </tr>\n  </tbody>\n</table>\n</div>"
          },
          "metadata": {}
        }
      ]
    },
    {
      "metadata": {
        "trusted": true,
        "_uuid": "655b54f00613b00b1095c60403544fb6f0a248a1"
      },
      "cell_type": "code",
      "source": "train_df.describe()",
      "execution_count": 7,
      "outputs": [
        {
          "output_type": "execute_result",
          "execution_count": 7,
          "data": {
            "text/plain": "       ApplicantIncome       ...        Credit_History\ncount       614.000000       ...            564.000000\nmean       5403.459283       ...              0.842199\nstd        6109.041673       ...              0.364878\nmin         150.000000       ...              0.000000\n25%        2877.500000       ...              1.000000\n50%        3812.500000       ...              1.000000\n75%        5795.000000       ...              1.000000\nmax       81000.000000       ...              1.000000\n\n[8 rows x 5 columns]",
            "text/html": "<div>\n<style scoped>\n    .dataframe tbody tr th:only-of-type {\n        vertical-align: middle;\n    }\n\n    .dataframe tbody tr th {\n        vertical-align: top;\n    }\n\n    .dataframe thead th {\n        text-align: right;\n    }\n</style>\n<table border=\"1\" class=\"dataframe\">\n  <thead>\n    <tr style=\"text-align: right;\">\n      <th></th>\n      <th>ApplicantIncome</th>\n      <th>CoapplicantIncome</th>\n      <th>LoanAmount</th>\n      <th>Loan_Amount_Term</th>\n      <th>Credit_History</th>\n    </tr>\n  </thead>\n  <tbody>\n    <tr>\n      <th>count</th>\n      <td>614.000000</td>\n      <td>614.000000</td>\n      <td>592.000000</td>\n      <td>600.00000</td>\n      <td>564.000000</td>\n    </tr>\n    <tr>\n      <th>mean</th>\n      <td>5403.459283</td>\n      <td>1621.245798</td>\n      <td>146.412162</td>\n      <td>342.00000</td>\n      <td>0.842199</td>\n    </tr>\n    <tr>\n      <th>std</th>\n      <td>6109.041673</td>\n      <td>2926.248369</td>\n      <td>85.587325</td>\n      <td>65.12041</td>\n      <td>0.364878</td>\n    </tr>\n    <tr>\n      <th>min</th>\n      <td>150.000000</td>\n      <td>0.000000</td>\n      <td>9.000000</td>\n      <td>12.00000</td>\n      <td>0.000000</td>\n    </tr>\n    <tr>\n      <th>25%</th>\n      <td>2877.500000</td>\n      <td>0.000000</td>\n      <td>100.000000</td>\n      <td>360.00000</td>\n      <td>1.000000</td>\n    </tr>\n    <tr>\n      <th>50%</th>\n      <td>3812.500000</td>\n      <td>1188.500000</td>\n      <td>128.000000</td>\n      <td>360.00000</td>\n      <td>1.000000</td>\n    </tr>\n    <tr>\n      <th>75%</th>\n      <td>5795.000000</td>\n      <td>2297.250000</td>\n      <td>168.000000</td>\n      <td>360.00000</td>\n      <td>1.000000</td>\n    </tr>\n    <tr>\n      <th>max</th>\n      <td>81000.000000</td>\n      <td>41667.000000</td>\n      <td>700.000000</td>\n      <td>480.00000</td>\n      <td>1.000000</td>\n    </tr>\n  </tbody>\n</table>\n</div>"
          },
          "metadata": {}
        }
      ]
    },
    {
      "metadata": {
        "trusted": true,
        "_uuid": "10afa6fc875acc8625e83302577cbd7c84995184"
      },
      "cell_type": "code",
      "source": "print(\"number of columns in the data is\",len(train_df.columns))\nprint(\"the columns are:\", train_df.columns)",
      "execution_count": 8,
      "outputs": [
        {
          "output_type": "stream",
          "text": "number of columns in the data is 13\nthe columns are: Index(['Loan_ID', 'Gender', 'Married', 'Dependents', 'Education',\n       'Self_Employed', 'ApplicantIncome', 'CoapplicantIncome', 'LoanAmount',\n       'Loan_Amount_Term', 'Credit_History', 'Property_Area', 'Loan_Status'],\n      dtype='object')\n",
          "name": "stdout"
        }
      ]
    },
    {
      "metadata": {
        "trusted": true,
        "_uuid": "e220ab0c37b011d44b28639605d6802772a4863e"
      },
      "cell_type": "code",
      "source": "train_df.info()",
      "execution_count": 9,
      "outputs": [
        {
          "output_type": "stream",
          "text": "<class 'pandas.core.frame.DataFrame'>\nRangeIndex: 614 entries, 0 to 613\nData columns (total 13 columns):\nLoan_ID              614 non-null object\nGender               601 non-null object\nMarried              611 non-null object\nDependents           599 non-null object\nEducation            614 non-null object\nSelf_Employed        582 non-null object\nApplicantIncome      614 non-null int64\nCoapplicantIncome    614 non-null float64\nLoanAmount           592 non-null float64\nLoan_Amount_Term     600 non-null float64\nCredit_History       564 non-null float64\nProperty_Area        614 non-null object\nLoan_Status          614 non-null object\ndtypes: float64(4), int64(1), object(8)\nmemory usage: 62.4+ KB\n",
          "name": "stdout"
        }
      ]
    },
    {
      "metadata": {
        "trusted": true,
        "_uuid": "3b574ff1983b1f45a64fc14732c2bc32e8ddf1b8"
      },
      "cell_type": "code",
      "source": "#conclusions from info and describe \nprint(\"1. gender column has\",614-601,\"missing values\")\nprint(\"2. married column has\",614-611,'missing values')\nprint('3. dependants column has',614-599,'missing values')\nprint('4. self exployed column has',614-582,'missing values')\nprint(\"5. loan amount data column has missing\", 614-592,'values')\nprint(\"6. loan amount term data column has missing\", 614-600,'values')\nprint('7. credit history column has missing', 614-564, 'values')\nprint(\"8. 84% of the applicants has credit history\")",
      "execution_count": 10,
      "outputs": [
        {
          "output_type": "stream",
          "text": "1. gender column has 13 missing values\n2. married column has 3 missing values\n3. dependants column has 15 missing values\n4. self exployed column has 32 missing values\n5. loan amount data column has missing 22 values\n6. loan amount term data column has missing 14 values\n7. credit history column has missing 50 values\n8. 84% of the applicants has credit history\n",
          "name": "stdout"
        }
      ]
    },
    {
      "metadata": {
        "trusted": true,
        "_uuid": "452527bed81712d2798bc54c4a054f6057d6a993"
      },
      "cell_type": "code",
      "source": "",
      "execution_count": null,
      "outputs": []
    },
    {
      "metadata": {
        "trusted": true,
        "_uuid": "490fa64307e79c4dbcaf60e2d10792111ef868ed"
      },
      "cell_type": "code",
      "source": "print(\"The columns -\", train_df.columns[6:10],'are numerical')\nprint(\"The rest of the data are categorical and object type\")",
      "execution_count": 11,
      "outputs": [
        {
          "output_type": "stream",
          "text": "The columns - Index(['ApplicantIncome', 'CoapplicantIncome', 'LoanAmount',\n       'Loan_Amount_Term'],\n      dtype='object') are numerical\nThe rest of the data are categorical and object type\n",
          "name": "stdout"
        }
      ]
    },
    {
      "metadata": {
        "trusted": true,
        "_uuid": "9fb1122f6b11d2fb6badc866524a509f24da750d"
      },
      "cell_type": "code",
      "source": "print(\"loan status is the dependant variable. Rest of the variables are independent\")",
      "execution_count": 12,
      "outputs": [
        {
          "output_type": "stream",
          "text": "loan status is the dependant variable. Rest of the variables are independent\n",
          "name": "stdout"
        }
      ]
    },
    {
      "metadata": {
        "trusted": true,
        "_uuid": "1b2db8a8d32ff87afede8301e91d23b455f4229c"
      },
      "cell_type": "code",
      "source": "print(train_df['Loan_Status'].value_counts())\nprint(\"there are 422 Y's and 192 N's. This seems to be imbalanced data\")",
      "execution_count": 13,
      "outputs": [
        {
          "output_type": "stream",
          "text": "Y    422\nN    192\nName: Loan_Status, dtype: int64\nthere are 422 Y's and 192 N's. This seems to be imbalanced data\n",
          "name": "stdout"
        }
      ]
    },
    {
      "metadata": {
        "trusted": true,
        "_uuid": "24d1b2a747ae7feab69f77e1dfbd9daca96a8987"
      },
      "cell_type": "code",
      "source": "train_df['Property_Area'].value_counts()",
      "execution_count": 14,
      "outputs": [
        {
          "output_type": "execute_result",
          "execution_count": 14,
          "data": {
            "text/plain": "Semiurban    233\nUrban        202\nRural        179\nName: Property_Area, dtype: int64"
          },
          "metadata": {}
        }
      ]
    },
    {
      "metadata": {
        "trusted": true,
        "_uuid": "28633fe827790259d6b5bc2ba32d18917fa6422d"
      },
      "cell_type": "code",
      "source": "#UNIVARIATE DISTRIBUTION ANALYSIS\ntrain_df['ApplicantIncome'].hist(bins=50)\nprint(\"the mean of the appicant income is\", np.mean(train_df['ApplicantIncome']),'. The values are distributed around mean with few outliers')",
      "execution_count": 15,
      "outputs": [
        {
          "output_type": "stream",
          "text": "the mean of the appicant income is 5403.459283387622 . The values are distributed around mean with few outliers\n",
          "name": "stdout"
        },
        {
          "output_type": "display_data",
          "data": {
            "text/plain": "<Figure size 432x288 with 1 Axes>",
            "image/png": "[encoded data removed]"
          },
          "metadata": {}
        }
      ]
    },
    {
      "metadata": {
        "trusted": true,
        "_uuid": "24f1d509be399de6a8ea3c0d55b4b857e8bc91c8"
      },
      "cell_type": "code",
      "source": "train_df.boxplot(column = 'ApplicantIncome')\nprint(\"the boxplot confirms the outlier in applicant income with largest value around 80000\")",
      "execution_count": 16,
      "outputs": [
        {
          "output_type": "stream",
          "text": "the boxplot confirms the outlier in applicant income with largest value around 80000\n",
          "name": "stdout"
        },
        {
          "output_type": "display_data",
          "data": {
            "text/plain": "<Figure size 432x288 with 1 Axes>",
            "image/png": "[encoded data removed]"
          },
          "metadata": {}
        }
      ]
    },
    {
      "metadata": {
        "trusted": true,
        "_uuid": "edd827830cd7d2a0a5b9b0813c81db367ab3ef18"
      },
      "cell_type": "code",
      "source": "train_df.boxplot(column ='ApplicantIncome', by = 'Education', figsize=(7,5))\nplt.show()\nprint(train_df.pivot_table(values = 'ApplicantIncome',columns='Education',aggfunc='mean'))\nprint('\\n')\nprint(\">>It can be seen that the outlier in the applicant income is due to the high education of some people.\")\nprint(\">>There is not much differnece in mean of graduates and non graduates\")",
      "execution_count": 17,
      "outputs": [
        {
          "output_type": "display_data",
          "data": {
            "text/plain": "<Figure size 504x360 with 1 Axes>",
            "image/png": "[encoded data removed]"
          },
          "metadata": {}
        },
        {
          "output_type": "stream",
          "text": "Education           Graduate  Not Graduate\nApplicantIncome  5857.433333   3777.283582\n\n\n>>It can be seen that the outlier in the applicant income is due to the high education of some people.\n>>There is not much differnece in mean of graduates and non graduates\n",
          "name": "stdout"
        }
      ]
    },
    {
      "metadata": {
        "trusted": true,
        "_uuid": "0176d43736a242acd54796c95edce76f79962522"
      },
      "cell_type": "code",
      "source": "",
      "execution_count": null,
      "outputs": []
    },
    {
      "metadata": {
        "trusted": true,
        "_uuid": "fc831b91939638c9391be68905f5e6343ff4e410"
      },
      "cell_type": "code",
      "source": "train_df.boxplot(column = 'ApplicantIncome', by = 'Self_Employed')\nplt.show()\nprint(\"people who are not self employed have higher income\")",
      "execution_count": 18,
      "outputs": [
        {
          "output_type": "display_data",
          "data": {
            "text/plain": "<Figure size 432x288 with 1 Axes>",
            "image/png": "[encoded data removed]"
          },
          "metadata": {}
        },
        {
          "output_type": "stream",
          "text": "people who are not self employed have higher income\n",
          "name": "stdout"
        }
      ]
    },
    {
      "metadata": {
        "trusted": true,
        "_uuid": "7d8dace7014383524e8060a6d344f10b71ecb0e2"
      },
      "cell_type": "code",
      "source": "train_df['LoanAmount'].hist(bins = 50)\nplt.show()\nprint(\"The mean of the laon amount is \", np.mean(train_df['LoanAmount']),'and the values are centered around it')\nprint(\"There are some extreme values also\")\n",
      "execution_count": 19,
      "outputs": [
        {
          "output_type": "display_data",
          "data": {
            "text/plain": "<Figure size 432x288 with 1 Axes>",
            "image/png": "[encoded data removed]"
          },
          "metadata": {}
        },
        {
          "output_type": "stream",
          "text": "The mean of the laon amount is  146.41216216216216 and the values are centered around it\nThere are some extreme values also\n",
          "name": "stdout"
        }
      ]
    },
    {
      "metadata": {
        "trusted": true,
        "_uuid": "b2912c9f3e00dd147f50c8e0b85b018de8e8176a"
      },
      "cell_type": "code",
      "source": "train_df.boxplot(column='LoanAmount', by = 'Self_Employed')",
      "execution_count": 20,
      "outputs": [
        {
          "output_type": "execute_result",
          "execution_count": 20,
          "data": {
            "text/plain": "<matplotlib.axes._subplots.AxesSubplot at 0x7fb2787ef358>"
          },
          "metadata": {}
        },
        {
          "output_type": "display_data",
          "data": {
            "text/plain": "<Figure size 432x288 with 1 Axes>",
            "image/png": "[encoded data removed]"
          },
          "metadata": {}
        }
      ]
    },
    {
      "metadata": {
        "trusted": true,
        "scrolled": true,
        "_uuid": "aff40f633a83c91344bcda1e8ce4db29e7bbb385"
      },
      "cell_type": "code",
      "source": "temp1 = train_df['Credit_History'].value_counts()\nprint(temp1)\ntemp1.plot(kind = 'bar')\nplt.xlabel(\"credit history\")\nplt.ylabel(\"count of each category\")\nplt.title(\"number of applicants with credit history\")",
      "execution_count": 21,
      "outputs": [
        {
          "output_type": "stream",
          "text": "1.0    475\n0.0     89\nName: Credit_History, dtype: int64\n",
          "name": "stdout"
        },
        {
          "output_type": "execute_result",
          "execution_count": 21,
          "data": {
            "text/plain": "Text(0.5,1,'number of applicants with credit history')"
          },
          "metadata": {}
        },
        {
          "output_type": "display_data",
          "data": {
            "text/plain": "<Figure size 432x288 with 1 Axes>",
            "image/png": "[encoded data removed]"
          },
          "metadata": {}
        }
      ]
    },
    {
      "metadata": {
        "trusted": true,
        "_uuid": "de01a54226a7d90834d24bddcc43b15ef7090b6a"
      },
      "cell_type": "code",
      "source": "train_df[\"LS\"] = train_df[\"Loan_Status\"].apply(lambda x : 1 if x == 'Y' else 0)",
      "execution_count": 22,
      "outputs": []
    },
    {
      "metadata": {
        "trusted": true,
        "_uuid": "6b76b169e6f867dc16cff222497e7b76044834a6"
      },
      "cell_type": "code",
      "source": "temp2 = train_df.pivot_table(values='LS',index = 'Credit_History')\nprint(temp2)\ntemp2.plot(kind = 'bar')\nplt.xlabel(\"credit history\")\nplt.ylabel(\"prob of loan\")\nplt.title(\"probability of getting loan based on the credit history\")\nprint(\"The probability of getting a loan with a valid credit history is 80%\")",
      "execution_count": 23,
      "outputs": [
        {
          "output_type": "stream",
          "text": "                      LS\nCredit_History          \n0.0             0.078652\n1.0             0.795789\nThe probability of getting a loan with a valid credit history is 80%\n",
          "name": "stdout"
        },
        {
          "output_type": "display_data",
          "data": {
            "text/plain": "<Figure size 432x288 with 1 Axes>",
            "image/png": "[encoded data removed]"
          },
          "metadata": {}
        }
      ]
    },
    {
      "metadata": {
        "trusted": true,
        "_uuid": "7c8d5b4c1dcb5f66a007a7ef9cd264afa7b1487f"
      },
      "cell_type": "code",
      "source": "temp2 = train_df.pivot_table(values = 'LS',index = 'Gender' )\nprint(temp2)\ntemp2.plot(kind = 'bar')\nplt.ylabel(\"prob of loan\")\nplt.show()\nprint(\">>The probability of getting loan depending on gender is same\")",
      "execution_count": 24,
      "outputs": [
        {
          "output_type": "stream",
          "text": "              LS\nGender          \nFemale  0.669643\nMale    0.693252\n",
          "name": "stdout"
        },
        {
          "output_type": "display_data",
          "data": {
            "text/plain": "<Figure size 432x288 with 1 Axes>",
            "image/png": "[encoded data removed]"
          },
          "metadata": {}
        },
        {
          "output_type": "stream",
          "text": ">>The probability of getting loan depending on gender is same\n",
          "name": "stdout"
        }
      ]
    },
    {
      "metadata": {
        "trusted": true,
        "_uuid": "3b2d6bb192529ec8e1f68f37a64e4a89798a2704"
      },
      "cell_type": "code",
      "source": "temp3 = train_df.pivot_table(values = 'LS',index = 'Married' )\nprint(temp3)\ntemp3.plot(kind = 'bar')\nplt.ylabel(\"prob of loan\")\nplt.show()\nprint(\">>The probability of getting loan depending on marriage is higher\")",
      "execution_count": 25,
      "outputs": [
        {
          "output_type": "stream",
          "text": "               LS\nMarried          \nNo       0.629108\nYes      0.716080\n",
          "name": "stdout"
        },
        {
          "output_type": "display_data",
          "data": {
            "text/plain": "<Figure size 432x288 with 1 Axes>",
            "image/png": "[encoded data removed]"
          },
          "metadata": {}
        },
        {
          "output_type": "stream",
          "text": ">>The probability of getting loan depending on marriage is higher\n",
          "name": "stdout"
        }
      ]
    },
    {
      "metadata": {
        "trusted": true,
        "_uuid": "3c7dc5819c4c44962f8e4d194d968f830f2167c0"
      },
      "cell_type": "code",
      "source": "temp4 = train_df.pivot_table(values = 'LS',index = 'Dependents' )\nprint(temp4)\ntemp4.plot(kind = 'bar')\nplt.ylabel(\"prob of loan\")\nplt.show()\nprint(\">>The probability of getting loan mostly is independant of dependants \")",
      "execution_count": 26,
      "outputs": [
        {
          "output_type": "stream",
          "text": "                  LS\nDependents          \n0           0.689855\n1           0.647059\n2           0.752475\n3+          0.647059\n",
          "name": "stdout"
        },
        {
          "output_type": "display_data",
          "data": {
            "text/plain": "<Figure size 432x288 with 1 Axes>",
            "image/png": "[encoded data removed]"
          },
          "metadata": {}
        },
        {
          "output_type": "stream",
          "text": ">>The probability of getting loan mostly is independant of dependants \n",
          "name": "stdout"
        }
      ]
    },
    {
      "metadata": {
        "trusted": true,
        "_uuid": "104a4e82bb72f282d53ba4bda41f8651ce2c4df4"
      },
      "cell_type": "code",
      "source": "temp5 = train_df.pivot_table(values = 'LS',index = 'Self_Employed' )\nprint(temp5)\ntemp5.plot(kind = 'bar')\nplt.ylabel(\"prob of loan\")\nplt.show()\nprint(\">>The probability of getting loan is almost same for self employed and non self employed  \")",
      "execution_count": 27,
      "outputs": [
        {
          "output_type": "stream",
          "text": "                     LS\nSelf_Employed          \nNo             0.686000\nYes            0.682927\n",
          "name": "stdout"
        },
        {
          "output_type": "display_data",
          "data": {
            "text/plain": "<Figure size 432x288 with 1 Axes>",
            "image/png": "[encoded data removed]"
          },
          "metadata": {}
        },
        {
          "output_type": "stream",
          "text": ">>The probability of getting loan is almost same for self employed and non self employed  \n",
          "name": "stdout"
        }
      ]
    },
    {
      "metadata": {
        "trusted": true,
        "_uuid": "511ce7738ae6b680dfc729b0bdac2cf416696c0e"
      },
      "cell_type": "code",
      "source": "temp6 = train_df.pivot_table(values = 'LS',index = 'Education' )\nprint(temp6)\ntemp6.plot(kind = 'bar')\nplt.ylabel(\"prob of loan\")\nplt.show()\nprint(\">>The probability of getting loan is little higher for graduate than non graduate\")",
      "execution_count": 28,
      "outputs": [
        {
          "output_type": "stream",
          "text": "                    LS\nEducation             \nGraduate      0.708333\nNot Graduate  0.611940\n",
          "name": "stdout"
        },
        {
          "output_type": "display_data",
          "data": {
            "text/plain": "<Figure size 432x288 with 1 Axes>",
            "image/png": "[encoded data removed]"
          },
          "metadata": {}
        },
        {
          "output_type": "stream",
          "text": ">>The probability of getting loan is little higher for graduate than non graduate\n",
          "name": "stdout"
        }
      ]
    },
    {
      "metadata": {
        "trusted": true,
        "_uuid": "20619ee1e878a190b46ede01067b31a5faf17bf7"
      },
      "cell_type": "code",
      "source": "temp7 = train_df.pivot_table(values = 'LS',index = 'Property_Area' )\nprint(temp7)\ntemp7.plot(kind = 'bar')\nplt.ylabel(\"prob of loan\")\nplt.show()\nprint(\">>The probability of getting loan is little higher for semi urban area \")",
      "execution_count": 29,
      "outputs": [
        {
          "output_type": "stream",
          "text": "                     LS\nProperty_Area          \nRural          0.614525\nSemiurban      0.768240\nUrban          0.658416\n",
          "name": "stdout"
        },
        {
          "output_type": "display_data",
          "data": {
            "text/plain": "<Figure size 432x288 with 1 Axes>",
            "image/png": "[encoded data removed]"
          },
          "metadata": {}
        },
        {
          "output_type": "stream",
          "text": ">>The probability of getting loan is little higher for semi urban area \n",
          "name": "stdout"
        }
      ]
    },
    {
      "metadata": {
        "trusted": true,
        "_uuid": "6c6858cff040854eb66fcab648861b9fcad20949"
      },
      "cell_type": "code",
      "source": "temp8 = pd.crosstab(train_df['Credit_History'], train_df['Loan_Status'])\nprint(temp8)\ntemp8.plot(kind='bar', stacked=True, color=['red','blue'])",
      "execution_count": 30,
      "outputs": [
        {
          "output_type": "stream",
          "text": "Loan_Status      N    Y\nCredit_History         \n0.0             82    7\n1.0             97  378\n",
          "name": "stdout"
        },
        {
          "output_type": "execute_result",
          "execution_count": 30,
          "data": {
            "text/plain": "<matplotlib.axes._subplots.AxesSubplot at 0x7fb27828db38>"
          },
          "metadata": {}
        },
        {
          "output_type": "display_data",
          "data": {
            "text/plain": "<Figure size 432x288 with 1 Axes>",
            "image/png": "[encoded data removed]"
          },
          "metadata": {}
        }
      ]
    },
    {
      "metadata": {
        "_uuid": "307880433472da09959e2fbd2049c4e1ff7ae831"
      },
      "cell_type": "markdown",
      "source": "**DATA MUNGING**"
    },
    {
      "metadata": {
        "trusted": true,
        "_uuid": "1e9dfe495381574a111477fdb6427dae7b1fec92"
      },
      "cell_type": "code",
      "source": "#number of missing data in each column\ntrain_df.apply(lambda x: sum(x.isnull()))",
      "execution_count": 31,
      "outputs": [
        {
          "output_type": "execute_result",
          "execution_count": 31,
          "data": {
            "text/plain": "Loan_ID               0\nGender               13\nMarried               3\nDependents           15\nEducation             0\nSelf_Employed        32\nApplicantIncome       0\nCoapplicantIncome     0\nLoanAmount           22\nLoan_Amount_Term     14\nCredit_History       50\nProperty_Area         0\nLoan_Status           0\nLS                    0\ndtype: int64"
          },
          "metadata": {}
        }
      ]
    },
    {
      "metadata": {
        "trusted": true,
        "_uuid": "9444e1984a1166ab3c0030b7477cba895005f596"
      },
      "cell_type": "code",
      "source": "test_df.apply(lambda x : sum(x.isnull()))",
      "execution_count": 32,
      "outputs": [
        {
          "output_type": "execute_result",
          "execution_count": 32,
          "data": {
            "text/plain": "Loan_ID               0\nGender               11\nMarried               0\nDependents           10\nEducation             0\nSelf_Employed        23\nApplicantIncome       0\nCoapplicantIncome     0\nLoanAmount            5\nLoan_Amount_Term      6\nCredit_History       29\nProperty_Area         0\ndtype: int64"
          },
          "metadata": {}
        }
      ]
    },
    {
      "metadata": {
        "trusted": true,
        "_uuid": "9edf29b97d5e13ae775822c1942a0a014481c3ba"
      },
      "cell_type": "code",
      "source": "print(train_df['Self_Employed'].value_counts())\n#majority of the values are no. Hence the missing values can be imputed to 'NO'\ntrain_df['Self_Employed'].fillna(value = 'No', inplace = True)",
      "execution_count": 33,
      "outputs": [
        {
          "output_type": "stream",
          "text": "No     500\nYes     82\nName: Self_Employed, dtype: int64\n",
          "name": "stdout"
        }
      ]
    },
    {
      "metadata": {
        "trusted": true,
        "_uuid": "6df76cefee3d625f5fb394ec9c10e39ddeaf965a"
      },
      "cell_type": "code",
      "source": "test_df['Self_Employed'].fillna(value = 'No', inplace = True)",
      "execution_count": 34,
      "outputs": []
    },
    {
      "metadata": {
        "trusted": true,
        "_uuid": "68b16f4f659ae940f5e735a166eae35f2a205fb3"
      },
      "cell_type": "code",
      "source": "train_df['Self_Employed'].isnull().sum()",
      "execution_count": 35,
      "outputs": [
        {
          "output_type": "execute_result",
          "execution_count": 35,
          "data": {
            "text/plain": "0"
          },
          "metadata": {}
        }
      ]
    },
    {
      "metadata": {
        "trusted": true,
        "_uuid": "60f0cc8e66a6e3af31b72b7a4ed839a0590d0ea3"
      },
      "cell_type": "code",
      "source": "train_df.boxplot(column = 'LoanAmount', by = ['Education','Self_Employed'], figsize=(8,4))",
      "execution_count": 36,
      "outputs": [
        {
          "output_type": "execute_result",
          "execution_count": 36,
          "data": {
            "text/plain": "<matplotlib.axes._subplots.AxesSubplot at 0x7fb278216128>"
          },
          "metadata": {}
        },
        {
          "output_type": "display_data",
          "data": {
            "text/plain": "<Figure size 576x288 with 1 Axes>",
            "image/png": "[encoded data removed]"
          },
          "metadata": {}
        }
      ]
    },
    {
      "metadata": {
        "trusted": true,
        "_uuid": "29f6c03d584cfb20c75a9d0a842da52c7c63997c"
      },
      "cell_type": "code",
      "source": "table = train_df.pivot_table(values='LoanAmount',index = 'Self_Employed', columns = 'Education', aggfunc='median')",
      "execution_count": 37,
      "outputs": []
    },
    {
      "metadata": {
        "trusted": true,
        "_uuid": "47724ec014781af3892965818f32dedb6c3b9468"
      },
      "cell_type": "code",
      "source": "table",
      "execution_count": 38,
      "outputs": [
        {
          "output_type": "execute_result",
          "execution_count": 38,
          "data": {
            "text/plain": "Education      Graduate  Not Graduate\nSelf_Employed                        \nNo                130.0         113.0\nYes               157.5         130.0",
            "text/html": "<div>\n<style scoped>\n    .dataframe tbody tr th:only-of-type {\n        vertical-align: middle;\n    }\n\n    .dataframe tbody tr th {\n        vertical-align: top;\n    }\n\n    .dataframe thead th {\n        text-align: right;\n    }\n</style>\n<table border=\"1\" class=\"dataframe\">\n  <thead>\n    <tr style=\"text-align: right;\">\n      <th>Education</th>\n      <th>Graduate</th>\n      <th>Not Graduate</th>\n    </tr>\n    <tr>\n      <th>Self_Employed</th>\n      <th></th>\n      <th></th>\n    </tr>\n  </thead>\n  <tbody>\n    <tr>\n      <th>No</th>\n      <td>130.0</td>\n      <td>113.0</td>\n    </tr>\n    <tr>\n      <th>Yes</th>\n      <td>157.5</td>\n      <td>130.0</td>\n    </tr>\n  </tbody>\n</table>\n</div>"
          },
          "metadata": {}
        }
      ]
    },
    {
      "metadata": {
        "trusted": true,
        "_uuid": "7273db728c8b48c2f5abc44271cd6633dfcd59d1"
      },
      "cell_type": "code",
      "source": "def fage(x):\n return table.loc[x['Self_Employed'],x['Education']]",
      "execution_count": 39,
      "outputs": []
    },
    {
      "metadata": {
        "trusted": true,
        "_uuid": "dd1a20d80ba48853dde75c3e5479ec7a8c847d8a"
      },
      "cell_type": "code",
      "source": "train_df['LoanAmount'].fillna(train_df[train_df['LoanAmount'].isnull()].apply(fage, axis=1), inplace=True)",
      "execution_count": 40,
      "outputs": []
    },
    {
      "metadata": {
        "trusted": true,
        "_uuid": "7c9202c9c26eb12bc2b3a48dde1eccdf5a1e4b7b"
      },
      "cell_type": "code",
      "source": "test_df['LoanAmount'].fillna(test_df[test_df['LoanAmount'].isnull()].apply(fage, axis=1), inplace=True)",
      "execution_count": 41,
      "outputs": []
    },
    {
      "metadata": {
        "trusted": true,
        "_uuid": "cf152ee2931be9fbc67e422d04975eb5213d03fc"
      },
      "cell_type": "code",
      "source": "train_df['LoanAmount'].isnull().sum()",
      "execution_count": 42,
      "outputs": [
        {
          "output_type": "execute_result",
          "execution_count": 42,
          "data": {
            "text/plain": "0"
          },
          "metadata": {}
        }
      ]
    },
    {
      "metadata": {
        "trusted": true,
        "_uuid": "c4c9145c29e6daf67ca99c26c950993be13aa46d"
      },
      "cell_type": "code",
      "source": "#to use the extreme values in loan amount and income, convert the values in to its log values",
      "execution_count": 43,
      "outputs": []
    },
    {
      "metadata": {
        "trusted": true,
        "_uuid": "78b549374348d144fa6b80b472f0d7d1cc29898a"
      },
      "cell_type": "code",
      "source": "train_df[\"LoanAmountLog\"] = train_df['LoanAmount'].apply(np.log)",
      "execution_count": 44,
      "outputs": []
    },
    {
      "metadata": {
        "trusted": true,
        "_uuid": "9ef97c4b5260fd24618db1b71b7b24f9c5f95819"
      },
      "cell_type": "code",
      "source": "train_df[\"LoanAmountLog\"].hist(bins = 50)\n#now the histgram looks closer to the normal distribution and the effects of the outliers has been reduced.",
      "execution_count": 45,
      "outputs": [
        {
          "output_type": "execute_result",
          "execution_count": 45,
          "data": {
            "text/plain": "<matplotlib.axes._subplots.AxesSubplot at 0x7fb2781c0390>"
          },
          "metadata": {}
        },
        {
          "output_type": "display_data",
          "data": {
            "text/plain": "<Figure size 432x288 with 1 Axes>",
            "image/png": "[encoded data removed]"
          },
          "metadata": {}
        }
      ]
    },
    {
      "metadata": {
        "trusted": true,
        "_uuid": "cf7821edd4b3f0746b3ea06280a424a426713118"
      },
      "cell_type": "code",
      "source": "train_df['TotalIncome'] = train_df['ApplicantIncome'] + train_df['CoapplicantIncome']",
      "execution_count": 46,
      "outputs": []
    },
    {
      "metadata": {
        "trusted": true,
        "_uuid": "4ae6d926b9e7f85cdaae831a6ee60763bb928c74"
      },
      "cell_type": "code",
      "source": "train_df[\"TotalIncomelog\"] = np.log(train_df['TotalIncome'])\ntrain_df['TotalIncomelog'].hist(bins = 50)",
      "execution_count": 47,
      "outputs": [
        {
          "output_type": "execute_result",
          "execution_count": 47,
          "data": {
            "text/plain": "<matplotlib.axes._subplots.AxesSubplot at 0x7fb278316470>"
          },
          "metadata": {}
        },
        {
          "output_type": "display_data",
          "data": {
            "text/plain": "<Figure size 432x288 with 1 Axes>",
            "image/png": "[encoded data removed]"
          },
          "metadata": {}
        }
      ]
    },
    {
      "metadata": {
        "trusted": true,
        "_uuid": "f889908167044a189436c4dfc042c2b490674cc9"
      },
      "cell_type": "code",
      "source": "#to impute the missing gender data\ntrain_df['Gender'].value_counts()",
      "execution_count": 48,
      "outputs": [
        {
          "output_type": "execute_result",
          "execution_count": 48,
          "data": {
            "text/plain": "Male      489\nFemale    112\nName: Gender, dtype: int64"
          },
          "metadata": {}
        }
      ]
    },
    {
      "metadata": {
        "trusted": true,
        "_uuid": "e4a03584ad517445f420ad4316c7a4c76aa88a18"
      },
      "cell_type": "code",
      "source": "#the applicants are mostly male. hence the 13 missing values will be filled as 'Male'\ntrain_df[\"Gender\"].fillna(value = 'Male', inplace = True)",
      "execution_count": 49,
      "outputs": []
    },
    {
      "metadata": {
        "trusted": true,
        "_uuid": "4932046171f1d54b4c8ef17b17d13f23c72b6347"
      },
      "cell_type": "code",
      "source": "test_df[\"Gender\"].fillna(value = 'Male', inplace = True)",
      "execution_count": 50,
      "outputs": []
    },
    {
      "metadata": {
        "trusted": true,
        "_uuid": "940867ed768fbb4cb385aa356ebf3c6909c2a657"
      },
      "cell_type": "code",
      "source": "train_df[\"Married\"].value_counts()",
      "execution_count": 51,
      "outputs": [
        {
          "output_type": "execute_result",
          "execution_count": 51,
          "data": {
            "text/plain": "Yes    398\nNo     213\nName: Married, dtype: int64"
          },
          "metadata": {}
        }
      ]
    },
    {
      "metadata": {
        "trusted": true,
        "_uuid": "7393faf7ff4313ddec4fa17da59aea5d19f2694c"
      },
      "cell_type": "code",
      "source": "#only 3 values are missing. Since there are more married than unmarried, the missing values will be filled as married\ntrain_df['Married'].fillna(value = 'Yes', inplace = True)",
      "execution_count": 52,
      "outputs": []
    },
    {
      "metadata": {
        "trusted": true,
        "_uuid": "819cb865c63fbb60e0426e3c6d10c9b3df69e2d8"
      },
      "cell_type": "code",
      "source": "train_df['Dependents'].value_counts()",
      "execution_count": 53,
      "outputs": [
        {
          "output_type": "execute_result",
          "execution_count": 53,
          "data": {
            "text/plain": "0     345\n1     102\n2     101\n3+     51\nName: Dependents, dtype: int64"
          },
          "metadata": {}
        }
      ]
    },
    {
      "metadata": {
        "trusted": true,
        "_uuid": "1bd689c374e49378b2a71abf9b527e1d9938e6d8"
      },
      "cell_type": "code",
      "source": "#there are 15 missing values for dependents. Since most of the applicants do not have any dependents, missing values\n#will be filled as no dependents\ntrain_df['Dependents'].fillna(value = 0, inplace = True)",
      "execution_count": 54,
      "outputs": []
    },
    {
      "metadata": {
        "trusted": true,
        "_uuid": "e938221d9cbb29ce1ef098cf11f4a367d0b1535a"
      },
      "cell_type": "code",
      "source": "test_df['Dependents'].fillna(value = 0, inplace = True)",
      "execution_count": 55,
      "outputs": []
    },
    {
      "metadata": {
        "trusted": true,
        "_uuid": "354de3dca595e6990bf35e065e1219bb76384b74"
      },
      "cell_type": "code",
      "source": "train_df['Loan_Amount_Term'].value_counts()",
      "execution_count": 56,
      "outputs": [
        {
          "output_type": "execute_result",
          "execution_count": 56,
          "data": {
            "text/plain": "360.0    512\n180.0     44\n480.0     15\n300.0     13\n84.0       4\n240.0      4\n120.0      3\n36.0       2\n60.0       2\n12.0       1\nName: Loan_Amount_Term, dtype: int64"
          },
          "metadata": {}
        }
      ]
    },
    {
      "metadata": {
        "trusted": true,
        "_uuid": "354c078992c80126b57fe1e85d18035e88b8a1d4"
      },
      "cell_type": "code",
      "source": "#there are 14 missing values for loan amount term. Most of the terms are 360. hence missing data will be replaced \n#by 360\ntrain_df['Loan_Amount_Term'].fillna(value = 360, inplace = True)",
      "execution_count": 57,
      "outputs": []
    },
    {
      "metadata": {
        "trusted": true,
        "_uuid": "84eee1b1949aa13d8631d19bf14ebfce6ff4f213"
      },
      "cell_type": "code",
      "source": "test_df['Loan_Amount_Term'].fillna(value = 360, inplace = True)",
      "execution_count": 58,
      "outputs": []
    },
    {
      "metadata": {
        "trusted": true,
        "_uuid": "9ede30671b53665491a91fdad1c357355d6e52d3"
      },
      "cell_type": "code",
      "source": "train_df['Credit_History'].value_counts()\ntemp9 = pd.crosstab(train_df['Credit_History'], train_df['Loan_Status'])",
      "execution_count": 59,
      "outputs": []
    },
    {
      "metadata": {
        "trusted": true,
        "_uuid": "f597380f0ca6392d05c489e2f75cf5ab808a637f"
      },
      "cell_type": "code",
      "source": "temp9",
      "execution_count": 60,
      "outputs": [
        {
          "output_type": "execute_result",
          "execution_count": 60,
          "data": {
            "text/plain": "Loan_Status      N    Y\nCredit_History         \n0.0             82    7\n1.0             97  378",
            "text/html": "<div>\n<style scoped>\n    .dataframe tbody tr th:only-of-type {\n        vertical-align: middle;\n    }\n\n    .dataframe tbody tr th {\n        vertical-align: top;\n    }\n\n    .dataframe thead th {\n        text-align: right;\n    }\n</style>\n<table border=\"1\" class=\"dataframe\">\n  <thead>\n    <tr style=\"text-align: right;\">\n      <th>Loan_Status</th>\n      <th>N</th>\n      <th>Y</th>\n    </tr>\n    <tr>\n      <th>Credit_History</th>\n      <th></th>\n      <th></th>\n    </tr>\n  </thead>\n  <tbody>\n    <tr>\n      <th>0.0</th>\n      <td>82</td>\n      <td>7</td>\n    </tr>\n    <tr>\n      <th>1.0</th>\n      <td>97</td>\n      <td>378</td>\n    </tr>\n  </tbody>\n</table>\n</div>"
          },
          "metadata": {}
        }
      ]
    },
    {
      "metadata": {
        "trusted": true,
        "_uuid": "d12708f4c205a87e53b6f82509ac123d6f00748b"
      },
      "cell_type": "code",
      "source": "temp10 = train_df[train_df['Credit_History'].isnull()]\n",
      "execution_count": 105,
      "outputs": []
    },
    {
      "metadata": {
        "trusted": true,
        "_uuid": "7774e1ec32574fe5f8ba3ed5768465914f368266"
      },
      "cell_type": "code",
      "source": "def f2(x):\n    return 1 if x['Loan_Status']=='Y' else 0",
      "execution_count": 62,
      "outputs": []
    },
    {
      "metadata": {
        "trusted": true,
        "_uuid": "83c335ba0ecb6eeff68fc47e8ea272cf767e1751"
      },
      "cell_type": "code",
      "source": "train_df['Credit_History'].fillna(value = temp10.apply(f2, axis=1), inplace = True)",
      "execution_count": 63,
      "outputs": []
    },
    {
      "metadata": {
        "trusted": true,
        "_uuid": "16a9b2b0a3b863bb2ee1b2a94b2ea1da80b9b82a"
      },
      "cell_type": "code",
      "source": "test_df['Credit_History'].fillna(value = temp10.apply(f2, axis=1), inplace = True)",
      "execution_count": 64,
      "outputs": []
    },
    {
      "metadata": {
        "trusted": true,
        "_uuid": "cfd4f675bd2b5aa59f447b90c4a5228fb8cdd0e4"
      },
      "cell_type": "code",
      "source": "train_df[\"Credit_History\"].isnull().sum()",
      "execution_count": 65,
      "outputs": [
        {
          "output_type": "execute_result",
          "execution_count": 65,
          "data": {
            "text/plain": "0"
          },
          "metadata": {}
        }
      ]
    },
    {
      "metadata": {
        "trusted": true,
        "_uuid": "15ea3e2ac5bf498eac8fb1ddd3865906d596159c"
      },
      "cell_type": "code",
      "source": "test_df[\"Credit_History\"].isnull().sum()",
      "execution_count": 66,
      "outputs": [
        {
          "output_type": "execute_result",
          "execution_count": 66,
          "data": {
            "text/plain": "28"
          },
          "metadata": {}
        }
      ]
    },
    {
      "metadata": {
        "trusted": true,
        "_uuid": "7a4d18ec189ededbdc903460edb66709c060cb61"
      },
      "cell_type": "markdown",
      "source": "APPLYING CLASSIFICATION MACHINE LEARNING TECHNIQUES"
    },
    {
      "metadata": {
        "trusted": true,
        "_uuid": "a91bcbe923b51abe0720c20e399240c0964611b6"
      },
      "cell_type": "code",
      "source": "from sklearn.linear_model import LogisticRegression\nfrom sklearn.metrics import classification_report, confusion_matrix",
      "execution_count": 67,
      "outputs": []
    },
    {
      "metadata": {
        "trusted": true,
        "_uuid": "7f600d6f0e7a40a39aceb8b63e6a8b05806905ba"
      },
      "cell_type": "code",
      "source": "train_df.head(5)",
      "execution_count": 68,
      "outputs": [
        {
          "output_type": "execute_result",
          "execution_count": 68,
          "data": {
            "text/plain": "    Loan_ID Gender      ...       TotalIncome TotalIncomelog\n0  LP001002   Male      ...            5849.0       8.674026\n1  LP001003   Male      ...            6091.0       8.714568\n2  LP001005   Male      ...            3000.0       8.006368\n3  LP001006   Male      ...            4941.0       8.505323\n4  LP001008   Male      ...            6000.0       8.699515\n\n[5 rows x 17 columns]",
            "text/html": "<div>\n<style scoped>\n    .dataframe tbody tr th:only-of-type {\n        vertical-align: middle;\n    }\n\n    .dataframe tbody tr th {\n        vertical-align: top;\n    }\n\n    .dataframe thead th {\n        text-align: right;\n    }\n</style>\n<table border=\"1\" class=\"dataframe\">\n  <thead>\n    <tr style=\"text-align: right;\">\n      <th></th>\n      <th>Loan_ID</th>\n      <th>Gender</th>\n      <th>Married</th>\n      <th>Dependents</th>\n      <th>Education</th>\n      <th>Self_Employed</th>\n      <th>ApplicantIncome</th>\n      <th>CoapplicantIncome</th>\n      <th>LoanAmount</th>\n      <th>Loan_Amount_Term</th>\n      <th>Credit_History</th>\n      <th>Property_Area</th>\n      <th>Loan_Status</th>\n      <th>LS</th>\n      <th>LoanAmountLog</th>\n      <th>TotalIncome</th>\n      <th>TotalIncomelog</th>\n    </tr>\n  </thead>\n  <tbody>\n    <tr>\n      <th>0</th>\n      <td>LP001002</td>\n      <td>Male</td>\n      <td>No</td>\n      <td>0</td>\n      <td>Graduate</td>\n      <td>No</td>\n      <td>5849</td>\n      <td>0.0</td>\n      <td>130.0</td>\n      <td>360.0</td>\n      <td>1.0</td>\n      <td>Urban</td>\n      <td>Y</td>\n      <td>1</td>\n      <td>4.867534</td>\n      <td>5849.0</td>\n      <td>8.674026</td>\n    </tr>\n    <tr>\n      <th>1</th>\n      <td>LP001003</td>\n      <td>Male</td>\n      <td>Yes</td>\n      <td>1</td>\n      <td>Graduate</td>\n      <td>No</td>\n      <td>4583</td>\n      <td>1508.0</td>\n      <td>128.0</td>\n      <td>360.0</td>\n      <td>1.0</td>\n      <td>Rural</td>\n      <td>N</td>\n      <td>0</td>\n      <td>4.852030</td>\n      <td>6091.0</td>\n      <td>8.714568</td>\n    </tr>\n    <tr>\n      <th>2</th>\n      <td>LP001005</td>\n      <td>Male</td>\n      <td>Yes</td>\n      <td>0</td>\n      <td>Graduate</td>\n      <td>Yes</td>\n      <td>3000</td>\n      <td>0.0</td>\n      <td>66.0</td>\n      <td>360.0</td>\n      <td>1.0</td>\n      <td>Urban</td>\n      <td>Y</td>\n      <td>1</td>\n      <td>4.189655</td>\n      <td>3000.0</td>\n      <td>8.006368</td>\n    </tr>\n    <tr>\n      <th>3</th>\n      <td>LP001006</td>\n      <td>Male</td>\n      <td>Yes</td>\n      <td>0</td>\n      <td>Not Graduate</td>\n      <td>No</td>\n      <td>2583</td>\n      <td>2358.0</td>\n      <td>120.0</td>\n      <td>360.0</td>\n      <td>1.0</td>\n      <td>Urban</td>\n      <td>Y</td>\n      <td>1</td>\n      <td>4.787492</td>\n      <td>4941.0</td>\n      <td>8.505323</td>\n    </tr>\n    <tr>\n      <th>4</th>\n      <td>LP001008</td>\n      <td>Male</td>\n      <td>No</td>\n      <td>0</td>\n      <td>Graduate</td>\n      <td>No</td>\n      <td>6000</td>\n      <td>0.0</td>\n      <td>141.0</td>\n      <td>360.0</td>\n      <td>1.0</td>\n      <td>Urban</td>\n      <td>Y</td>\n      <td>1</td>\n      <td>4.948760</td>\n      <td>6000.0</td>\n      <td>8.699515</td>\n    </tr>\n  </tbody>\n</table>\n</div>"
          },
          "metadata": {}
        }
      ]
    },
    {
      "metadata": {
        "trusted": true,
        "_uuid": "f58b7cef086844e54029c9ab8347d1defdf452a0"
      },
      "cell_type": "code",
      "source": "#converting categorical variables to numerical variables using one hot encoding",
      "execution_count": 69,
      "outputs": []
    },
    {
      "metadata": {
        "trusted": true,
        "_uuid": "29ccd32bf76ce5f836ff93743911105fe78bcc9a"
      },
      "cell_type": "code",
      "source": "from sklearn.preprocessing import LabelEncoder\nvar_mod = ['Gender','Married','Dependents','Education','Self_Employed','Property_Area','Loan_Status']\nle = LabelEncoder()\n",
      "execution_count": 70,
      "outputs": []
    },
    {
      "metadata": {
        "trusted": true,
        "_uuid": "8e002c5551a5b82c414c75a4a41ce67b44fbb42e"
      },
      "cell_type": "code",
      "source": "train_df['Gender'] = le.fit_transform(train_df[\"Gender\"])\n",
      "execution_count": 71,
      "outputs": []
    },
    {
      "metadata": {
        "trusted": true,
        "_uuid": "606d73e90e28cb3955e28b9c51d027e2af25f0b7"
      },
      "cell_type": "code",
      "source": "train_df['Married'] = le.fit_transform(train_df[\"Married\"])\ntrain_df['Education'] = le.fit_transform(train_df[\"Education\"])\ntrain_df['Self_Employed'] = le.fit_transform(train_df[\"Self_Employed\"])\ntrain_df['Property_Area'] = le.fit_transform(train_df[\"Property_Area\"])",
      "execution_count": 72,
      "outputs": []
    },
    {
      "metadata": {
        "trusted": true,
        "_uuid": "863988280e73403664bb389930f642dc2c6d6c1d"
      },
      "cell_type": "code",
      "source": "train_df['Loan_Status'] = le.fit_transform(train_df[\"Loan_Status\"])",
      "execution_count": 73,
      "outputs": []
    },
    {
      "metadata": {
        "trusted": true,
        "_uuid": "3de194e2f9b260d9a81bd4f899a44caa56b9a199"
      },
      "cell_type": "code",
      "source": "predictors = ['Credit_History','Married','Education','Self_Employed','Property_Area']\noutcome = 'Loan_Status'",
      "execution_count": 80,
      "outputs": []
    },
    {
      "metadata": {
        "trusted": true,
        "_uuid": "57c5b22e2fe31ed1eb4146c93b160596e1ad5978"
      },
      "cell_type": "code",
      "source": "classifier = LogisticRegression()",
      "execution_count": 81,
      "outputs": []
    },
    {
      "metadata": {
        "trusted": true,
        "_uuid": "c268244e2fcce73d34f6f61e10e859c3d5916ccf"
      },
      "cell_type": "code",
      "source": "classifier.fit(train_df[predictors],train_df[outcome])",
      "execution_count": 82,
      "outputs": [
        {
          "output_type": "stream",
          "text": "/opt/conda/lib/python3.6/site-packages/sklearn/linear_model/logistic.py:432: FutureWarning: Default solver will be changed to 'lbfgs' in 0.22. Specify a solver to silence this warning.\n  FutureWarning)\n",
          "name": "stderr"
        },
        {
          "output_type": "execute_result",
          "execution_count": 82,
          "data": {
            "text/plain": "LogisticRegression(C=1.0, class_weight=None, dual=False, fit_intercept=True,\n          intercept_scaling=1, max_iter=100, multi_class='warn',\n          n_jobs=None, penalty='l2', random_state=None, solver='warn',\n          tol=0.0001, verbose=0, warm_start=False)"
          },
          "metadata": {}
        }
      ]
    },
    {
      "metadata": {
        "trusted": true,
        "_uuid": "3776aa68e01802fe0e0003d7c4ea8a903120387f"
      },
      "cell_type": "code",
      "source": "from sklearn.model_selection import cross_val_score",
      "execution_count": 83,
      "outputs": []
    },
    {
      "metadata": {
        "trusted": true,
        "_uuid": "9fbab08203820b793d7f4c764800e7a6bb704c64"
      },
      "cell_type": "code",
      "source": "acc = cross_val_score(classifier, X= train_df[predictors], y = train_df[outcome], scoring = 'accuracy', cv=5)",
      "execution_count": 84,
      "outputs": [
        {
          "output_type": "stream",
          "text": "/opt/conda/lib/python3.6/site-packages/sklearn/linear_model/logistic.py:432: FutureWarning: Default solver will be changed to 'lbfgs' in 0.22. Specify a solver to silence this warning.\n  FutureWarning)\n/opt/conda/lib/python3.6/site-packages/sklearn/linear_model/logistic.py:432: FutureWarning: Default solver will be changed to 'lbfgs' in 0.22. Specify a solver to silence this warning.\n  FutureWarning)\n/opt/conda/lib/python3.6/site-packages/sklearn/linear_model/logistic.py:432: FutureWarning: Default solver will be changed to 'lbfgs' in 0.22. Specify a solver to silence this warning.\n  FutureWarning)\n/opt/conda/lib/python3.6/site-packages/sklearn/linear_model/logistic.py:432: FutureWarning: Default solver will be changed to 'lbfgs' in 0.22. Specify a solver to silence this warning.\n  FutureWarning)\n/opt/conda/lib/python3.6/site-packages/sklearn/linear_model/logistic.py:432: FutureWarning: Default solver will be changed to 'lbfgs' in 0.22. Specify a solver to silence this warning.\n  FutureWarning)\n",
          "name": "stderr"
        }
      ]
    },
    {
      "metadata": {
        "trusted": true,
        "_uuid": "3fcefc84c1bad0743a833c86c9f7ccdeeba36d41"
      },
      "cell_type": "code",
      "source": "acc.mean()",
      "execution_count": 85,
      "outputs": [
        {
          "output_type": "execute_result",
          "execution_count": 85,
          "data": {
            "text/plain": "0.8306980433632998"
          },
          "metadata": {}
        }
      ]
    },
    {
      "metadata": {
        "trusted": true,
        "_uuid": "f81756af138a92d2e5179ffc380a96127f6d2d28"
      },
      "cell_type": "code",
      "source": "test_df['Gender'] = le.fit_transform(test_df[\"Gender\"])\ntest_df['Married'] = le.fit_transform(test_df[\"Married\"])\ntest_df['Education'] = le.fit_transform(test_df[\"Education\"])\ntest_df['Self_Employed'] = le.fit_transform(test_df[\"Self_Employed\"])\ntest_df['Property_Area'] = le.fit_transform(test_df[\"Property_Area\"])",
      "execution_count": 86,
      "outputs": []
    },
    {
      "metadata": {
        "trusted": true,
        "_uuid": "3e54186bdefa58d7f11e64372f743a7ca4c75d69"
      },
      "cell_type": "code",
      "source": "test_df['Credit_History'].fillna(value = 1,inplace = True)",
      "execution_count": 87,
      "outputs": []
    },
    {
      "metadata": {
        "trusted": true,
        "_uuid": "c37fdf2236fb9532c8827d78b1aec8d12d929900"
      },
      "cell_type": "code",
      "source": "y_pred = classifier.predict(test_df[predictors])",
      "execution_count": 88,
      "outputs": []
    },
    {
      "metadata": {
        "trusted": true,
        "_uuid": "daab962a089638befd0fb8117540beb159aba5da"
      },
      "cell_type": "code",
      "source": "#since there is no outcome data for the test data, it is not possible to evaluate the accuracy of the predictions.\n#The cross validation accuracy of the trianing data is about 83% as per the logit regression",
      "execution_count": 106,
      "outputs": []
    },
    {
      "metadata": {
        "trusted": true,
        "_uuid": "7b541703499d94122c32048174860e9ffde619d0"
      },
      "cell_type": "code",
      "source": "from sklearn.tree import DecisionTreeClassifier",
      "execution_count": 107,
      "outputs": []
    },
    {
      "metadata": {
        "trusted": true,
        "_uuid": "94c7e4790bdedfbb5851f2adf9658209b5ae2810"
      },
      "cell_type": "code",
      "source": "classifier_2 = DecisionTreeClassifier()",
      "execution_count": 108,
      "outputs": []
    },
    {
      "metadata": {
        "trusted": true,
        "_uuid": "c353b10d8346528342201463b404d6d4e6835d6e"
      },
      "cell_type": "code",
      "source": "classifier_2.fit(train_df[predictors],train_df[outcome])",
      "execution_count": 109,
      "outputs": [
        {
          "output_type": "execute_result",
          "execution_count": 109,
          "data": {
            "text/plain": "DecisionTreeClassifier(class_weight=None, criterion='gini', max_depth=None,\n            max_features=None, max_leaf_nodes=None,\n            min_impurity_decrease=0.0, min_impurity_split=None,\n            min_samples_leaf=1, min_samples_split=2,\n            min_weight_fraction_leaf=0.0, presort=False, random_state=None,\n            splitter='best')"
          },
          "metadata": {}
        }
      ]
    },
    {
      "metadata": {
        "trusted": true,
        "_uuid": "a0962ce8ca752f6eab6e4bfe9af51f45b6dbde5a"
      },
      "cell_type": "code",
      "source": "acc_2 = cross_val_score(classifier, X= train_df[predictors], y = train_df[outcome], scoring = 'accuracy', cv=5)",
      "execution_count": 110,
      "outputs": [
        {
          "output_type": "stream",
          "text": "/opt/conda/lib/python3.6/site-packages/sklearn/linear_model/logistic.py:432: FutureWarning: Default solver will be changed to 'lbfgs' in 0.22. Specify a solver to silence this warning.\n  FutureWarning)\n/opt/conda/lib/python3.6/site-packages/sklearn/linear_model/logistic.py:432: FutureWarning: Default solver will be changed to 'lbfgs' in 0.22. Specify a solver to silence this warning.\n  FutureWarning)\n/opt/conda/lib/python3.6/site-packages/sklearn/linear_model/logistic.py:432: FutureWarning: Default solver will be changed to 'lbfgs' in 0.22. Specify a solver to silence this warning.\n  FutureWarning)\n/opt/conda/lib/python3.6/site-packages/sklearn/linear_model/logistic.py:432: FutureWarning: Default solver will be changed to 'lbfgs' in 0.22. Specify a solver to silence this warning.\n  FutureWarning)\n/opt/conda/lib/python3.6/site-packages/sklearn/linear_model/logistic.py:432: FutureWarning: Default solver will be changed to 'lbfgs' in 0.22. Specify a solver to silence this warning.\n  FutureWarning)\n",
          "name": "stderr"
        }
      ]
    },
    {
      "metadata": {
        "trusted": true,
        "_uuid": "2b231316b50abef2044018d55911d66b4f086a58"
      },
      "cell_type": "code",
      "source": "acc_2.mean()",
      "execution_count": 111,
      "outputs": [
        {
          "output_type": "execute_result",
          "execution_count": 111,
          "data": {
            "text/plain": "0.8306980433632998"
          },
          "metadata": {}
        }
      ]
    },
    {
      "metadata": {
        "trusted": true,
        "_uuid": "8b127aaa9ae5f58769702bf843143e7d1551ab05"
      },
      "cell_type": "code",
      "source": "#the decision tree calssifier also provides the same cross validation result as the logit regression",
      "execution_count": 112,
      "outputs": []
    },
    {
      "metadata": {
        "trusted": true,
        "_uuid": "907f0d309cfe1fe240dc06f287b3ac09e8cbe155"
      },
      "cell_type": "code",
      "source": "",
      "execution_count": null,
      "outputs": []
    }
  ],
  "metadata": {
    "kernelspec": {
      "display_name": "Python 3",
      "language": "python",
      "name": "python3"
    },
    "language_info": {
      "name": "python",
      "version": "3.6.6",
      "mimetype": "text/x-python",
      "codemirror_mode": {
        "name": "ipython",
        "version": 3
      },
      "pygments_lexer": "ipython3",
      "nbconvert_exporter": "python",
      "file_extension": ".py"
    }
  },
  "nbformat": 4,
  "nbformat_minor": 1
}